{
 "cells": [
  {
   "cell_type": "code",
   "execution_count": 1,
   "metadata": {},
   "outputs": [],
   "source": [
    "%matplotlib inline\n",
    "import numpy as np\n",
    "from scipy.optimize import minimize\n",
    "from qiskit import *\n",
    "from qiskit.extensions.standard import *"
   ]
  },
  {
   "cell_type": "markdown",
   "metadata": {},
   "source": [
    "* Find the groud state of the Hamiltonian:$H=\\begin{pmatrix}\n",
    "0 & 0 &0  & 0 \\\\\n",
    "0 & -1 & 1 & 0 \\\\\n",
    "0 & 1 & -1 & 0 \\\\\n",
    "0 & 0 & 0 & 0\n",
    "\\end{pmatrix}.$\n"
   ]
  },
  {
   "cell_type": "markdown",
   "metadata": {},
   "source": [
    "## #VQE ON A **IDEAL** SIMULATOR\n",
    "[See it also in the noisy case](https://github.com/walid-mk/VQE/blob/master/Task4/VQE.Noisy.Simulator.Code2.ipynb)."
   ]
  },
  {
   "cell_type": "markdown",
   "metadata": {},
   "source": [
    "* Let first have the eigenvalues of $H$ and find the lowest one which corresponds to the lowest energy. We will use for this some ``` Numpy ``` tools:"
   ]
  },
  {
   "cell_type": "code",
   "execution_count": 2,
   "metadata": {},
   "outputs": [
    {
     "name": "stdout",
     "output_type": "stream",
     "text": [
      "The eigenvalues of H : [ 0. -2.  0.  0.]\n",
      "The exact ground state energy is:  -2.0\n"
     ]
    }
   ],
   "source": [
    "H = np.mat(\"0 0 0 0; 0 -1 1 0; 0 1 -1 0; 0 0 0 0\") #The Hamiltonian matrix\n",
    "print(\"The eigenvalues of H :\", np.linalg.eigvals(H))\n",
    "print('The exact ground state energy is: ', np.linalg.eigvals(H)[1])\n"
   ]
  },
  {
   "cell_type": "markdown",
   "metadata": {},
   "source": [
    "* As we can see the lowest eigenvalue is $-2$."
   ]
  },
  {
   "cell_type": "markdown",
   "metadata": {},
   "source": [
    "## Variational Quantum Eingensolver (VQE):"
   ]
  },
  {
   "cell_type": "markdown",
   "metadata": {},
   "source": [
    "### - Now let us find this value using VQE and see the accuracy of its result\n",
    "\n",
    "* We need to be able to express the Hamiltonian matrix in a quantum circuit, so that expectations values can be measured using the quantum computer.\n",
    "\n",
    "* To do that we need to decompose $H$ into the sum of tensor products of Pauli operators, multiplied by some constant coefficients: $H = a \\cdot II + b \\cdot XX + c \\cdot ZZ + d \\cdot YY.$\n",
    "\n",
    "This equation leads to $4$ equations with $4$ variables, which can be written as $Ax=C$ :\n",
    "$$\n",
    "\\begin{pmatrix}\n",
    "1 & 0 & 1  & 0 \\\\\n",
    "0 & 1 & 0 & -1 \\\\\n",
    "1 & 0 & -1 & 0 \\\\\n",
    "0 & 1 & 0 & 1\n",
    "\\end{pmatrix}.\n",
    "\\begin{pmatrix}\n",
    "a \\\\\n",
    "b \\\\\n",
    "c \\\\\n",
    "d\n",
    "\\end{pmatrix} = \n",
    "\\begin{pmatrix}\n",
    "0 \\\\\n",
    "0 \\\\\n",
    "-1 \\\\\n",
    "1\n",
    "\\end{pmatrix}\n",
    "$$\n",
    "We can solve this manually, or use again ```Numpy``` for this task to compute the coefficients $a$, $b$, $c$, and $d$ :"
   ]
  },
  {
   "cell_type": "code",
   "execution_count": 6,
   "metadata": {},
   "outputs": [
    {
     "name": "stdout",
     "output_type": "stream",
     "text": [
      "a: -0.5 \n",
      "b: 0.5 \n",
      "c: 0.5 \n",
      "d: 0.5\n"
     ]
    }
   ],
   "source": [
    "A = np.array([[1,0,1,0],[0,1,0,-1],[1,0,-1,0],[0,1,0,1]])\n",
    "C = np.array([0,0,-1,1])\n",
    "S = np.linalg.solve(A,C) # x = A^-1 * C\n",
    "a, b, c, d = S[0], S[1], S[2], S[3]\n",
    "print(\"a:\", a,\"\\nb:\", b, \"\\nc:\", c, \"\\nd:\", d)"
   ]
  },
  {
   "cell_type": "markdown",
   "metadata": {},
   "source": [
    "#### And voila!  $H = -0.5 \\cdot II + 0.5 \\cdot XX + 0.5 \\cdot ZZ + 0.5 \\cdot YY.$"
   ]
  },
  {
   "cell_type": "markdown",
   "metadata": {},
   "source": [
    "* I'm going to convert $H$ to a dictionary for a purposeful reason:"
   ]
  },
  {
   "cell_type": "code",
   "execution_count": 7,
   "metadata": {},
   "outputs": [
    {
     "name": "stdout",
     "output_type": "stream",
     "text": [
      "{'II': -0.5, 'XX': 0.5, 'ZZ': 0.5, 'YY': 0.5}\n"
     ]
    }
   ],
   "source": [
    "H ={'II':a, 'XX':b, 'ZZ':c,'YY':d}\n",
    "print(H)"
   ]
  },
  {
   "cell_type": "markdown",
   "metadata": {},
   "source": [
    "### - The Ansatz:\n",
    "\n",
    "* The variational method consiste of calculating the expectation value of $H$, over a multiple trial wavefunctions to get the minimum one $min_\\theta\\left\\langle \\psi \\right| H \\left| \\psi \\right\\rangle = lowest\\; energy$.\n",
    "\n",
    "* So we initialize our circuit with a best guess, or ansatz: $$(I \\otimes X).(C-Not).(R_z(\\theta) \\otimes I).(H \\otimes I) \\left| 0 \\right\\rangle \\otimes \\left| 0 \\right\\rangle$$"
   ]
  },
  {
   "cell_type": "code",
   "execution_count": 15,
   "metadata": {},
   "outputs": [],
   "source": [
    "# The ansatz initialization\n",
    "def ansatz_init(circuit, parameter):\n",
    "    q = circuit.qregs[0]\n",
    "    circuit.h(q[0])\n",
    "    circuit.rz(parameter, q[0])\n",
    "    circuit.cx(q[0], q[1])\n",
    "    circuit.x(q[1])\n",
    "    return circuit"
   ]
  },
  {
   "cell_type": "markdown",
   "metadata": {},
   "source": [
    "### - Transfer to the $Z\\; basis$:\n",
    "* Now to calculate the expectation value, we need to be very careful about the basis.\n",
    "* The only physical measurement that a quantum computer can do, is in the Z basis {${\\left| 0 \\right\\rangle; \\left| 1 \\right\\rangle}$}. And as we can see, the Hamiltonian is decomposed into a linear combination of Pauli's matrices, as these form a basis for hermitian matrices. Hence, we have three kinds of measurement basis:\n",
    "$$Z basis: {\\left| 0 \\right\\rangle; \\left| 1 \\right\\rangle},\\qquad X basis: {\\left| + \\right\\rangle; \\left| - \\right\\rangle},\\qquad Y basis: {\\left| +i \\right\\rangle; \\left| -i \\right\\rangle}.$$\n",
    "Thus, we need to express the last two basis in the $Z\\;basis$ :\n",
    "\n",
    " * $X\\;basis$ in term of $Z\\;basis$; we get the matrix: $H^{'} = \\frac{1}{\\sqrt{2}}\\begin{pmatrix}\n",
    "1 & 1\\\\\n",
    "1 & -1\n",
    "\\end{pmatrix}$.\n",
    "\n",
    " * $Y\\;basis$ in term of $Z\\;basis$; we get the matrix: $Y^{'} = \\frac{1}{\\sqrt{2}}\\begin{pmatrix}\n",
    "1 & 1\\\\\n",
    "i & -i\n",
    "\\end{pmatrix}$.\n",
    "\n",
    "<b> Those two matrices transfer from {${\\left| 0 \\right\\rangle; \\left| 1 \\right\\rangle}$} to {${\\left| + \\right\\rangle; \\left| - \\right\\rangle}$} and {${\\left| +i \\right\\rangle; \\left| -i \\right\\rangle}$} respectevly.\n",
    "    \n",
    "* Every quantum state $\\left| \\psi \\right\\rangle$ can be expressed in different sets of basis, so if we want it to be written in the {$\\left| 0 \\right\\rangle; \\left| 1 \\right\\rangle$} basis, to get the count of the measurement and calculate the expectations values, we process as follow:\n",
    "\n",
    " * We apply the inverse of $H^{'}$ to go from the {${\\left| + \\right\\rangle; \\left| - \\right\\rangle}$} basis to the {${\\left| 0 \\right\\rangle; \\left| 1 \\right\\rangle}$} basis; consequently, we get the matrix: $H_{gate} = \\frac{1}{\\sqrt{2}}\\begin{pmatrix}\n",
    "1 & 1\\\\\n",
    "1 & -1\n",
    "\\end{pmatrix}$. (It is the Hadamard gate)\n",
    " * We apply the inverse of $Y^{'}$ to go from the {${\\left| +i \\right\\rangle; \\left| -i \\right\\rangle}$} basis to the {${\\left| 0 \\right\\rangle; \\left| 1 \\right\\rangle}$} basis; then, we get the matrix: $Y_{gate} = \\frac{1}{\\sqrt{2}}\\begin{pmatrix}\n",
    "1 & -i\\\\\n",
    "1 & i\n",
    "\\end{pmatrix}$."
   ]
  },
  {
   "cell_type": "code",
   "execution_count": 16,
   "metadata": {},
   "outputs": [
    {
     "name": "stdout",
     "output_type": "stream",
     "text": [
      "H_gate:\n",
      "[[ 1.+0.j  1.-0.j]\n",
      " [ 1.+0.j -1.+0.j]]\n",
      "Y_gate:\n",
      "[[ 1.+0.j -0.-1.j]\n",
      " [ 1.+0.j  0.+1.j]]\n"
     ]
    }
   ],
   "source": [
    "H_gate = U2Gate(0, np.pi).to_matrix()\n",
    "print(\"H_gate:\")\n",
    "print((H_gate * np.sqrt(2)).round(5))\n",
    "\n",
    "Y_gate = U2Gate(0, np.pi/2).to_matrix()\n",
    "print(\"Y_gate:\")\n",
    "print((Y_gate * np.sqrt(2)).round(5))"
   ]
  },
  {
   "cell_type": "code",
   "execution_count": 17,
   "metadata": {},
   "outputs": [],
   "source": [
    "# transfer to the Z basis measurement circuit\n",
    "def z_measure_circ(parameter, measure):\n",
    "    q = QuantumRegister(2)\n",
    "    c = ClassicalRegister(2)\n",
    "    circuit = QuantumCircuit(q, c)\n",
    "\n",
    "    # implement the ansate in the circuit\n",
    "    circuit = ansatz_init(circuit, parameter)\n",
    "\n",
    "    # measurement\n",
    "    if measure == 'XX':\n",
    "        circuit.barrier(q[0],q[1])\n",
    "        circuit.u2(0, np.pi, q[0])\n",
    "        circuit.u2(0, np.pi, q[1])\n",
    "        circuit.measure(q[0], c[0])\n",
    "        circuit.measure(q[1], c[1])\n",
    "    elif measure == 'ZZ':\n",
    "        circuit.measure(q[0], c[0])\n",
    "        circuit.measure(q[1], c[1])\n",
    "    elif measure == 'YY':\n",
    "        circuit.barrier(q[0],q[1])\n",
    "        circuit.u2(0, np.pi/2, q[0])\n",
    "        circuit.u2(0, np.pi/2, q[1])\n",
    "        circuit.measure(q[0], c[0])\n",
    "        circuit.measure(q[1], c[1])\n",
    "    else:\n",
    "         raise ValueError('Input should be \"XX\" or \"YY\" or \"ZZ\"')\n",
    "\n",
    "    return circuit"
   ]
  },
  {
   "cell_type": "markdown",
   "metadata": {},
   "source": [
    "* The counts result is returned in qiskit, in a form of a dictionary, so I will define a function ```get_from``` that returns the values in the dictionary. Also, it will be useful for the Hamiltonian dictionary created above."
   ]
  },
  {
   "cell_type": "code",
   "execution_count": 18,
   "metadata": {},
   "outputs": [],
   "source": [
    "# If key is missing than return 0 otherwise the corresponding value.\n",
    "def get_from(d: dict, key: str):\n",
    "\n",
    "    value = 0\n",
    "    if key in d:\n",
    "        value = d[key]\n",
    "    return value"
   ]
  },
  {
   "cell_type": "markdown",
   "metadata": {},
   "source": [
    "### - The expectation value:\n",
    "\n",
    "* The expectation value in the case of two qubits, is calculated considering the computational basis (Z-Axis) as follow: \n",
    "$$\\frac{1}{N}.(N_{00}\\left\\langle 00 \\right| Z \\otimes Z \\left| 00 \\right\\rangle + N_{11}\\left\\langle 11 \\right| Z \\otimes Z \\left| 11 \\right\\rangle + N_{10}\\left\\langle 10 \\right| Z \\otimes Z \\left| 10 \\right\\rangle + N_{01}\\left\\langle 01 \\right| Z \\otimes Z \\left| 01 \\right\\rangle)$$\n",
    "In which: \n",
    "$$\\left\\langle 00 \\right| Z \\otimes Z \\left| 00 \\right\\rangle = \\left\\langle 11 \\right| Z \\otimes Z \\left| 11 \\right\\rangle = 1$$\n",
    "and \n",
    "$$\\left\\langle 10 \\right| Z \\otimes Z \\left| 10 \\right\\rangle = \\left\\langle 01 \\right| Z \\otimes Z \\left| 01 \\right\\rangle = -1$$\n",
    "therefore the expectation value become:\n",
    "$$\\frac{1}{N}.((N_{00} + N_{11}) - (N_{10} + N_{01}))$$\n",
    "where $N$ is the number of shots, and $N_{00}$, $N_{11}$, $N_{10}$, $N_{01}$ are the number of time the state $\\left| 00 \\right\\rangle$, $\\left| 11 \\right\\rangle$, $\\left| 10 \\right\\rangle$, $\\left| 01 \\right\\rangle$ are measured respectively."
   ]
  },
  {
   "cell_type": "code",
   "execution_count": 19,
   "metadata": {},
   "outputs": [],
   "source": [
    "#calculate the expectation value for each Pauli's gate\n",
    "def expec_value(parameter, measure):\n",
    "    # measure in the right basis, then use the counts to compute the expectation value.\n",
    "    if measure == 'II':\n",
    "        return 1\n",
    "    if measure == 'XX':\n",
    "        circuit = z_measure_circ(parameter, 'XX')\n",
    "    elif measure == 'ZZ':\n",
    "        circuit = z_measure_circ(parameter, 'ZZ')\n",
    "    elif measure == 'YY':\n",
    "        circuit = z_measure_circ(parameter, 'YY')\n",
    "    else:\n",
    "        raise ValueError('Input should be \"II\" or \"XX\" or \"ZZ\" or \"YY\"')\n",
    "    \n",
    "    shots = 1000\n",
    "    backend = BasicAer.get_backend('qasm_simulator')\n",
    "    job = execute(circuit, backend, shots=shots)\n",
    "    result = job.result()\n",
    "    counts = result.get_counts()\n",
    "    \n",
    "    expectation_value = ((get_from(counts, '00')+get_from(counts, '11')) - \n",
    "                         (get_from(counts,'10')+get_from(counts, '01'))) / shots\n",
    "\n",
    "    return expectation_value"
   ]
  },
  {
   "cell_type": "markdown",
   "metadata": {},
   "source": [
    "* create a function ```sum_expec``` that sums up all the expectation value inside the one of the Hamiltonian, multiply them by their coefficients, and returns the final result.\n",
    "$$\\left\\langle H \\right\\rangle = a \\cdot \\left\\langle \\psi \\right| II \\left| \\psi \\right\\rangle + b \\cdot \\left\\langle \\psi \\right| XX \\left| \\psi \\right\\rangle + c \\cdot \\left\\langle \\psi \\right| ZZ \\left| \\psi \\right\\rangle + d \\cdot \\left\\langle \\psi \\right| YY \\left| \\psi \\right\\rangle.$$"
   ]
  },
  {
   "cell_type": "code",
   "execution_count": 20,
   "metadata": {},
   "outputs": [],
   "source": [
    "def sum_expec(parameter):\n",
    "    \n",
    "    expec_value_II = get_from(H, 'II') * expec_value(parameter, 'II') #a*<II>\n",
    "    expec_value_XX = get_from(H, 'XX') * expec_value(parameter, 'XX') #b*<XX>\n",
    "    expec_value_ZZ = get_from(H, 'ZZ') * expec_value(parameter, 'ZZ') #c*<ZZ>\n",
    "    expec_value_YY = get_from(H, 'YY') * expec_value(parameter, 'YY') #d*<YY>\n",
    "    # summing the expectations results\n",
    "    sum_result = expec_value_II + expec_value_XX + expec_value_ZZ + expec_value_YY\n",
    "    \n",
    "    return sum_result"
   ]
  },
  {
   "cell_type": "markdown",
   "metadata": {},
   "source": [
    "### Using the optimizer:\n",
    "* the ansatz we had initialize have one degree of freedom i.e. it depends in one parameter $\\theta$ (rotation) on which she can vary, so the trials wavefunctions depend on $\\theta$; $\\left| \\psi(\\theta) \\right\\rangle$.\n",
    "\n",
    "<b> So at the first time, we are going to count on an optimizer called ```minimize``` from ```scipy.optimize```, to search the best angle $\\theta$, therefore the best wavefunction $\\left| \\psi(\\theta) \\right\\rangle$, which minimize the expectation value: $min_\\theta\\left\\langle \\psi(\\theta) \\right| H \\left| \\psi(\\theta) \\right\\rangle = lowest\\; energy\\;$."
   ]
  },
  {
   "cell_type": "code",
   "execution_count": 21,
   "metadata": {},
   "outputs": [
    {
     "name": "stdout",
     "output_type": "stream",
     "text": [
      "The exact ground state energy is: -2.0\n",
      "The estimated ground state energy from VQE algorithm is: -2.0\n",
      "\n",
      "The optimal parameter is : 3.1042756418412325 \n"
     ]
    }
   ],
   "source": [
    "parameter = 1 #initialize an arbitrary angle\n",
    "\n",
    "tol = 1e-3 #tolerance for optimization precision.\n",
    "#Inject the sum_expec result inside the minimizer function\n",
    "sum_expec_result = minimize(sum_expec, parameter, method=\"Powell\", tol=tol)\n",
    "\n",
    "print('The exact ground state energy is: {}'.format(eigenvalue[1]))\n",
    "print('The estimated ground state energy from VQE algorithm is: {}'.format(sum_expec_result.fun))\n",
    "print(\"\\nThe optimal parameter is : {} \".format(sum_expec_result.x))"
   ]
  },
  {
   "cell_type": "markdown",
   "metadata": {},
   "source": [
    "* As can be seen, the optimizer can ﬁnd the best angle $\\theta = 3.1042756418412325\\;$ for the global minimum energy $ E = \\left\\langle \\psi \\right| H \\left| \\psi \\right\\rangle = -2.0$ (in arbitrary units) as expected."
   ]
  },
  {
   "cell_type": "markdown",
   "metadata": {},
   "source": [
    "### Using **```for```**  loop:\n",
    "<b> Here, classical optimization is not necessary, since we have only one parameter to sweep over. Therefore it is obvious that we are going to loop over a set of values in the range $[0, 2\\pi)$ :"
   ]
  },
  {
   "cell_type": "code",
   "execution_count": 22,
   "metadata": {},
   "outputs": [],
   "source": [
    "angles = np.linspace(0.0, 2.0 * np.pi, 25) # an array of angles in [0,2pi)\n",
    "\n",
    "lowest_array=[] #  empty regular list\n",
    "for parameter in angles:\n",
    "    lowest = sum_expec(parameter)\n",
    "    lowest_array.append(lowest)\n",
    "    low = np.array(lowest_array) # transformed to a numpy array"
   ]
  },
  {
   "cell_type": "markdown",
   "metadata": {},
   "source": [
    "Some ```matplotlib``` functions to plot a nice graph :)"
   ]
  },
  {
   "cell_type": "code",
   "execution_count": 25,
   "metadata": {},
   "outputs": [
    {
     "data": {
      "image/png": "[encoded data removed]",
      "text/plain": [
       "<Figure size 1080x720 with 1 Axes>"
      ]
     },
     "metadata": {
      "needs_background": "light"
     },
     "output_type": "display_data"
    },
    {
     "name": "stdout",
     "output_type": "stream",
     "text": [
      "The intersection between the value of the optimizer angle and the constructed graph is the lowest energy:  -1.995438704475237\n"
     ]
    }
   ],
   "source": [
    "import matplotlib.pyplot as plt\n",
    "from matplotlib.ticker import (FormatStrFormatter, AutoMinorLocator, FuncFormatter)\n",
    "\n",
    "fig = plt.figure(figsize=(15, 10))\n",
    "ax = fig.add_subplot()\n",
    "ax.plot(angles, low, linewidth=3, color='mediumseagreen')\n",
    "\n",
    "\n",
    "##The 3.141 position of the arrow is chosen, because It was the best angle I got after differnt execution\n",
    "ax.annotate('The lowest energy', xy=(3.141, -2), xytext=(3.141, -1.7),\n",
    "             arrowprops=dict(facecolor='black', shrink=0.05),)\n",
    "#make the minor graduation\n",
    "def minor_tick(x, pos):\n",
    "    if not x % 1.0:\n",
    "        return \"\"\n",
    "    return \"%.2f\" % x\n",
    "ax.xaxis.set_minor_locator(AutoMinorLocator()) #plot the minor graduation\n",
    "ax.xaxis.set_minor_formatter(FuncFormatter(minor_tick)) #plot the minor graduation numbers\n",
    "\n",
    "ax.tick_params(which='both', width=2) #controle both graduation for x and y axis\n",
    "ax.tick_params(which='major', length=7) #controle the major graduation the n° of grad\n",
    "ax.tick_params(which='minor', length=4, color='black') #control the minor graduation le n° de grad\n",
    "ax.tick_params(labelcolor='black', labelsize=20, width=3) #controle the major graduation\n",
    "\n",
    "plt.xlabel(r'$Angles \\; \\theta ∈ [0,2\\pi)$', {'color': 'C0', 'fontsize': 18})\n",
    "plt.ylabel(r'$Expectation \\; value \\; \\left\\langle \\psi(\\theta) \\right| H \\left| \\psi(\\theta) \\right\\rangle$',\n",
    "           {'color': 'C0', 'fontsize': 18})\n",
    "plt.title(r'$min_\\theta \\left\\langle \\psi(\\theta) \\right| H \\left| \\psi(\\theta) \\right\\rangle$',\n",
    "           {'color': 'C0', 'fontsize': 18})\n",
    "plt.grid(linestyle='-.')\n",
    "plt.show()\n",
    "# Use the interpolation numpy function, where its utilise the best angle given by the optimizer, to see if\n",
    "# its give us the right ground state in Y-axis in the graph below: (f(angle) = ?)\n",
    "inter = np.interp( sum_expec_result.x ,angles,low)\n",
    "print('The intersection between the value of the optimizer angle and the constructed graph is the lowest energy: ',inter)"
   ]
  },
  {
   "cell_type": "markdown",
   "metadata": {},
   "source": [
    "<b>Enumerating the expectation values for all angles, lead to a lowest state energy equal to the one obtained with the optimizer!\n",
    "\n",
    "N.B: The best angle I got after differnt execution of the optimizer was, $\\theta = 3.141... \\approx \\pi$ .\n",
    "    \n",
    "&#10173; Final results: $$\\left\\langle H \\right\\rangle_{optimizer} = -2.0,\\qquad \\theta_{optimizer} = 3.1042756418412325$$\n",
    "    \n",
    "$$\\left\\langle H \\right\\rangle_{for\\;loop} = -2.0,\\qquad \\theta_{for\\;loop} \\approx 3.15$$"
   ]
  },
  {
   "cell_type": "markdown",
   "metadata": {},
   "source": [
    "&#10170; **I searched the lowest energy for the same Hamiltonian, using the VQE in a noisy environment. Moreover, I used another code implementation  and take the same step (use optimizer and for loop) I toke here to get the values.** [See it in my github](https://github.com/walid-mk/VQE/blob/master/Task4/VQE.Noisy.Simulator.Code2.ipynb)"
   ]
  },
  {
   "cell_type": "markdown",
   "metadata": {},
   "source": [
    "https://arxiv.org/abs/1304.3061\n",
    "\n",
    "https://github.com/DavitKhach/quantum-algorithms-tutorials/blob/master/variational_quantum_eigensolver.ipynb"
   ]
  }
 ],
 "metadata": {
  "kernelspec": {
   "display_name": "Python 3",
   "language": "python",
   "name": "python3"
  },
  "language_info": {
   "codemirror_mode": {
    "name": "ipython",
    "version": 3
   },
   "file_extension": ".py",
   "mimetype": "text/x-python",
   "name": "python",
   "nbconvert_exporter": "python",
   "pygments_lexer": "ipython3",
   "version": "3.7.6"
  }
 },
 "nbformat": 4,
 "nbformat_minor": 4
}
